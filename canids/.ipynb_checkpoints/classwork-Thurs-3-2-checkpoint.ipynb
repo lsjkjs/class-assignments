{
 "cells": [
  {
   "cell_type": "code",
   "execution_count": 9,
   "metadata": {
    "collapsed": false
   },
   "outputs": [],
   "source": [
    "#Earliest and latest appearance of species\n",
    "\n",
    "#open the file    \n",
    "infile = \"formatted.pbdb_data.csv\"\n",
    "with open(infile, \"r\") as ff:\n",
    "    canid_recs = ff.readlines()\n",
    "\n",
    "#use defaultdict\n",
    "from collections import defaultdict\n",
    "\n",
    "species_ranges = defaultdict(list) #dict is initialized as a list\n",
    "    \n",
    "#make a dictionary\n",
    "for line in canid_recs:\n",
    "    species = line.split(\",\")[5]\n",
    "    minage = line.split('\",\"')[10]\n",
    "    maxage = line.split('\",\"')[11]\n",
    "    \n",
    "    mean_age = (float(minage) + float(maxage)) /2\n",
    "    \n",
    "    species_ranges[species].append(mean_age) #add species as key and mean ages as elements to the list of ages"
   ]
  },
  {
   "cell_type": "code",
   "execution_count": 19,
   "metadata": {
    "collapsed": false
   },
   "outputs": [],
   "source": [
    "output = open(\"canid-ranges.csv\", \"w\")\n",
    "\n",
    "#get the oldest and youngest ages of fossils for each species in species_ranges\n",
    "for key in species_ranges.keys():\n",
    "    ages = species_ranges[key]\n",
    "    minage = min(ages)\n",
    "    maxage = max(ages)\n",
    "    genus = key.split(\" \")[0]\n",
    "    outline = \"{}, {}, {}, {}\\n\".format(genus, species, minage, maxage)\n",
    "    output.write(outline)\n",
    "    \n",
    "#sort the keys"
   ]
  },
  {
   "cell_type": "code",
   "execution_count": null,
   "metadata": {
    "collapsed": true
   },
   "outputs": [],
   "source": []
  }
 ],
 "metadata": {
  "anaconda-cloud": {},
  "kernelspec": {
   "display_name": "Python [default]",
   "language": "python",
   "name": "python3"
  },
  "language_info": {
   "codemirror_mode": {
    "name": "ipython",
    "version": 3
   },
   "file_extension": ".py",
   "mimetype": "text/x-python",
   "name": "python",
   "nbconvert_exporter": "python",
   "pygments_lexer": "ipython3",
   "version": "3.5.2"
  }
 },
 "nbformat": 4,
 "nbformat_minor": 2
}
