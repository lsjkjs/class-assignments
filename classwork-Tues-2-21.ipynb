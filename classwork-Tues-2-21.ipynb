{
 "cells": [
  {
   "cell_type": "code",
   "execution_count": 2,
   "metadata": {
    "collapsed": false
   },
   "outputs": [],
   "source": [
    "## code \n",
    "#wget http://ctfs.si.edu/webatlas/datasets/cocoli/cocoli.zip\n",
    "#unzip cocoli.zip"
   ]
  },
  {
   "cell_type": "markdown",
   "metadata": {},
   "source": [
    "Each row in cocoli.txt has data of each cocoli species, its x and y coordinates, etc.\n",
    "\n",
    "Each row in cocolisp.txt represents data of the genus, species, and family of each species"
   ]
  },
  {
   "cell_type": "markdown",
   "metadata": {},
   "source": [
    "1. The entry in the column multi2 refers to the number of stems the plant has at 1.3m in the second census.\n",
    "\n",
    "2. The entry in the column dbh2 refers to diameter recording of the largest stem of the tree in the second census\n",
    "\n",
    "3. We can look it up at the cocolisp.txt\n",
    "\n",
    "4. Calycophyllum candidissimum"
   ]
  },
  {
   "cell_type": "code",
   "execution_count": null,
   "metadata": {
    "collapsed": true
   },
   "outputs": [],
   "source": [
    "1. species 1 has unknown stem\n",
    "2. species 29 died between 1994 and 1998"
   ]
  },
  {
   "cell_type": "code",
   "execution_count": 3,
   "metadata": {
    "collapsed": true
   },
   "outputs": [],
   "source": [
    "# Question you might ask\n",
    "# How many stems on average do the trees have in census 1?\n",
    "# What is the change in growth over time\n",
    "# live-die spectrum or the other end\n"
   ]
  },
  {
   "cell_type": "markdown",
   "metadata": {},
   "source": [
    "Piper is the most species rich genus.\n",
    "\n",
    "There are 127 genera. 98 genera only have one species"
   ]
  },
  {
   "cell_type": "markdown",
   "metadata": {},
   "source": [
    "Pseudocode\n",
    "\n",
    "Which individual had the highest yearly RGR between 1994-1998?\n",
    "\n",
    "find dbh of 1994 and dbh of 1998\n",
    "\n",
    "subtract dbh of 1998 by dbh of 1994 and divide by 4 to find the rgr\n",
    "\n",
    "sort the rgr from lowest to highest to find the species with the highest rgr"
   ]
  }
 ],
 "metadata": {
  "anaconda-cloud": {},
  "kernelspec": {
   "display_name": "Python [default]",
   "language": "python",
   "name": "python3"
  },
  "language_info": {
   "codemirror_mode": {
    "name": "ipython",
    "version": 3
   },
   "file_extension": ".py",
   "mimetype": "text/x-python",
   "name": "python",
   "nbconvert_exporter": "python",
   "pygments_lexer": "ipython3",
   "version": "3.5.2"
  }
 },
 "nbformat": 4,
 "nbformat_minor": 2
}
