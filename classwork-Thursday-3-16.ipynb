{
 "cells": [
  {
   "cell_type": "markdown",
   "metadata": {},
   "source": [
    "# Questions\n",
    "\n",
    "1. When the dinosaurs existed, were the continents in the same places?\n",
    "2. Do you have enough samples to show the correlation between brain size and fossil occurrences?\n",
    "3. Canis - working on a small subset of canis families\n",
    "4. Will you organize your data in sorted format?\n",
    "5. Why is there a gap?\n",
    "6. What relationship are you looking for between horses and plants?\n",
    "7. Did you make a map because there were too many occurrences?\n",
    "8. What correlation are you trying to find in speciation and extinction rates?\n",
    "9. Why are those birds restricted to the tropical areas?\n",
    "10. Me\n",
    "11. Is there are a substantial decline in data due to the extant species of fungus?\n",
    "12. Why do you think there is a jump in extinction rates?\n",
    "13. Where is the myocene era?\n",
    "14. Is there a reason for the spike in the speciation/extinction rates?"
   ]
  }
 ],
 "metadata": {
  "anaconda-cloud": {},
  "kernelspec": {
   "display_name": "Python [default]",
   "language": "python",
   "name": "python3"
  },
  "language_info": {
   "codemirror_mode": {
    "name": "ipython",
    "version": 3
   },
   "file_extension": ".py",
   "mimetype": "text/x-python",
   "name": "python",
   "nbconvert_exporter": "python",
   "pygments_lexer": "ipython3",
   "version": "3.5.2"
  }
 },
 "nbformat": 4,
 "nbformat_minor": 2
}
